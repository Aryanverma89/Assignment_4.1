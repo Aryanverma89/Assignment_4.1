{
 "cells": [
  {
   "cell_type": "markdown",
   "id": "25047b96-0843-485d-828e-d5818671e581",
   "metadata": {},
   "source": [
    "Q1. Explain Class and Object with respect to Object-Oriented Programming. Give a suitable example."
   ]
  },
  {
   "cell_type": "code",
   "execution_count": 1,
   "id": "7a4550b5-e9ef-4fa3-9a22-99ded56d9990",
   "metadata": {},
   "outputs": [
    {
     "data": {
      "text/plain": [
       "' Class - A class is a user-defined blueprint or prototype from which objects are created.\\nEx-class Bike:\\n    name = \"\"\\n    gear = 0\\n here Bike - the name of the class\\nname/gear - variables inside the class with default values \"\" and 0 respectively.\\n\\nObject - An object is called an instance of a class. For example, suppose Bike is a class then we can create objects like bike1, bike2, etc from the class.\\n Syntax-\\n objectName = ClassName()\\n\\nEx- create objects of class\\nbike1 = Bike()   '"
      ]
     },
     "execution_count": 1,
     "metadata": {},
     "output_type": "execute_result"
    }
   ],
   "source": [
    "\"\"\" Class - A class is a user-defined blueprint or prototype from which objects are created.\n",
    "Ex-class Bike:\n",
    "    name = \"\"\n",
    "    gear = 0\n",
    " here Bike - the name of the class\n",
    "name/gear - variables inside the class with default values \"\" and 0 respectively.\n",
    "\n",
    "Object - An object is called an instance of a class. For example, suppose Bike is a class then we can create objects like bike1, bike2, etc from the class.\n",
    " Syntax-\n",
    " objectName = ClassName()\n",
    "\n",
    "Ex- create objects of class\n",
    "bike1 = Bike()   \"\"\""
   ]
  },
  {
   "cell_type": "markdown",
   "id": "e795d792-8ee0-4faf-b201-80e120e5e73e",
   "metadata": {},
   "source": [
    "Q2. Name the four pillars of OOPs."
   ]
  },
  {
   "cell_type": "code",
   "execution_count": 3,
   "id": "2bf4b998-ad05-4f28-86e0-c4696f4b70ff",
   "metadata": {},
   "outputs": [
    {
     "data": {
      "text/plain": [
       "'There are four pillars of OOPs concept which are -\\n1. Polymorphism- Polymorphism simply means having many forms.\\nFor example-I am Aryan. In a college I am a student, In a home I am a son.\\n2. Inheritance -Inheritance is the capability of one class to derive or inherit the properties from another class.\\nFor example- I am Aryan. I have some manners to my father and some have my mother and some have my own.\\n3. Incapulation-  It describes the idea of wrapping data and the methods that work on data within one unit.\\nThose types of variables are known as private variables.\\n For Example- A class is an example of encapsulation as it encapsulates all the data that is member functions, variables, etc.\\n4.Data Abstraction -It hides unnecessary code details from the user. \\nAlso,  when we do not want to give out sensitive parts of our code implementation and this is where data abstraction came.  '"
      ]
     },
     "execution_count": 3,
     "metadata": {},
     "output_type": "execute_result"
    }
   ],
   "source": [
    "\"\"\"There are four pillars of OOPs concept which are -\n",
    "1. Polymorphism- Polymorphism simply means having many forms.\n",
    "For example-I am Aryan. In a college I am a student, In a home I am a son.\n",
    "2. Inheritance -Inheritance is the capability of one class to derive or inherit the properties from another class.\n",
    "For example- I am Aryan. I have some manners to my father and some have my mother and some have my own.\n",
    "3. Incapulation-  It describes the idea of wrapping data and the methods that work on data within one unit.\n",
    "Those types of variables are known as private variables.\n",
    " For Example- A class is an example of encapsulation as it encapsulates all the data that is member functions, variables, etc.\n",
    "4.Data Abstraction -It hides unnecessary code details from the user. \n",
    "Also,  when we do not want to give out sensitive parts of our code implementation and this is where data abstraction came.  \"\"\""
   ]
  },
  {
   "cell_type": "markdown",
   "id": "49b418d7-c974-4ecc-98e7-3fda0e74f569",
   "metadata": {},
   "source": [
    "Q3. Explain why the __init__() function is used. Give a suitable example."
   ]
  },
  {
   "cell_type": "code",
   "execution_count": 6,
   "id": "ae0778d7-bc10-42a3-afbe-cd935495692e",
   "metadata": {},
   "outputs": [
    {
     "data": {
      "text/plain": [
       "'The __init__ method is the Python equivalent of the C++ constructor in an object-oriented approach. \\nThe __init__  function is called every time an object is created from a class.\\nThe __init__ method lets the class initialize the object’s attributes and serves no other purpose. It is only used within classes. '"
      ]
     },
     "execution_count": 6,
     "metadata": {},
     "output_type": "execute_result"
    }
   ],
   "source": [
    "\"\"\"The __init__ method is the Python equivalent of the C++ constructor in an object-oriented approach. \n",
    "The __init__  function is called every time an object is created from a class.\n",
    "The __init__ method lets the class initialize the object’s attributes and serves no other purpose. It is only used within classes. \"\"\""
   ]
  },
  {
   "cell_type": "code",
   "execution_count": 17,
   "id": "7a799a1e-782b-4011-885e-fc4e78b956d4",
   "metadata": {},
   "outputs": [],
   "source": [
    "class person:\n",
    " \n",
    "    # init method or constructor\n",
    "    def __init__(self, name):\n",
    "        self.name = name"
   ]
  },
  {
   "cell_type": "code",
   "execution_count": 18,
   "id": "13aaefe0-6965-40dd-92bd-81315d0a0068",
   "metadata": {},
   "outputs": [],
   "source": [
    "p=person(\"Aryan\")"
   ]
  },
  {
   "cell_type": "code",
   "execution_count": 19,
   "id": "c2f83c4f-696a-49b9-95f6-6e88d58789d9",
   "metadata": {},
   "outputs": [
    {
     "data": {
      "text/plain": [
       "'Aryan'"
      ]
     },
     "execution_count": 19,
     "metadata": {},
     "output_type": "execute_result"
    }
   ],
   "source": [
    "p.name"
   ]
  },
  {
   "cell_type": "markdown",
   "id": "f4127371-3d3d-4a6c-914e-4fd2aea978f3",
   "metadata": {},
   "source": [
    "Q4. Why self is used in OOPs?"
   ]
  },
  {
   "cell_type": "code",
   "execution_count": 20,
   "id": "7314c008-8f41-4d4a-b74a-312943737187",
   "metadata": {},
   "outputs": [
    {
     "data": {
      "text/plain": [
       "' The “self” keyword represents the instance of the class. By using the “self” keyword, we can access the attributes and methods of the class.\\nIt is useful in method definitions and in variable initialization. The “self” is explicitly used every time we define a method.   '"
      ]
     },
     "execution_count": 20,
     "metadata": {},
     "output_type": "execute_result"
    }
   ],
   "source": [
    "\"\"\" The “self” keyword represents the instance of the class. By using the “self” keyword, we can access the attributes and methods of the class.\n",
    "It is useful in method definitions and in variable initialization. The “self” is explicitly used every time we define a method.   \"\"\""
   ]
  },
  {
   "cell_type": "code",
   "execution_count": 21,
   "id": "898100ea-d238-4ceb-b78e-160daf643f87",
   "metadata": {},
   "outputs": [],
   "source": [
    "class mynumber:\n",
    "    def __init__(self, value):\n",
    "        self.value = value\n",
    "     \n",
    "    def print_value(self):\n",
    "        print(self.value)\n",
    " "
   ]
  },
  {
   "cell_type": "code",
   "execution_count": 22,
   "id": "f1b4392d-8ccd-425d-a827-22b172fc9c6a",
   "metadata": {},
   "outputs": [],
   "source": [
    "val=mynumber(22)"
   ]
  },
  {
   "cell_type": "code",
   "execution_count": 24,
   "id": "8e36dbf0-f62e-436a-ba42-6a2e60621ffe",
   "metadata": {},
   "outputs": [
    {
     "name": "stdout",
     "output_type": "stream",
     "text": [
      "22\n"
     ]
    }
   ],
   "source": [
    "val.print_value()"
   ]
  },
  {
   "cell_type": "markdown",
   "id": "8ebc9aa6-3f04-407a-bff1-13517819ad7a",
   "metadata": {},
   "source": [
    "Q5. What is inheritance? Give an example for each type of inheritance."
   ]
  },
  {
   "cell_type": "code",
   "execution_count": 25,
   "id": "f91fff12-a4c2-4802-8435-ff79f6f7ac69",
   "metadata": {},
   "outputs": [
    {
     "ename": "SyntaxError",
     "evalue": "incomplete input (3303493903.py, line 1)",
     "output_type": "error",
     "traceback": [
      "\u001b[0;36m  Cell \u001b[0;32mIn[25], line 1\u001b[0;36m\u001b[0m\n\u001b[0;31m    \"\"\" Inheritance is the capability of one class to derive or inherit the properties from another class.\u001b[0m\n\u001b[0m    ^\u001b[0m\n\u001b[0;31mSyntaxError\u001b[0m\u001b[0;31m:\u001b[0m incomplete input\n"
     ]
    }
   ],
   "source": [
    "\"\"\" Inheritance is the capability of one class to derive or inherit the properties from another class.\n",
    "There are four types of inheritance in Python:\n",
    "1. Single Inheritance- Single inheritance enables a derived class to inherit properties from a single parent class, thus enabling code reusability and the addition of new features to existing code.\n",
    "2. Multiple Inheritance- When a class can be derived from more than one base class this type of inheritance is called multiple inheritances. In multiple inheritances, all the features of the base classes are inherited into the derived class. \n",
    "3.Multilevel Inheritance- In multilevel inheritance, features of the base class and the derived class are further inherited into the new derived class. This is similar to a relationship representing a child and a grandfather. \n",
    "4.Hybrid Inheritance- Inheritance consisting of multiple types of inheritance is called hybrid inheritance."
   ]
  },
  {
   "cell_type": "code",
   "execution_count": 28,
   "id": "d779f1bc-4cde-4cc4-9f3c-4d4f4ee81635",
   "metadata": {},
   "outputs": [],
   "source": [
    "#1. Single Inhertance\n",
    "class Parent:\n",
    "    def func1(self):\n",
    "        print(\"This function is in parent class.\")\n",
    "class child(Parent):\n",
    "    def func2(self):\n",
    "        print(\"This function is in child class.\")"
   ]
  },
  {
   "cell_type": "code",
   "execution_count": 29,
   "id": "fe795eb7-499b-4e9a-86ea-e5a3c9b728e8",
   "metadata": {},
   "outputs": [],
   "source": [
    "p=child()"
   ]
  },
  {
   "cell_type": "code",
   "execution_count": 31,
   "id": "ad31cd33-56bc-4539-bac7-4f9dc1f715a2",
   "metadata": {},
   "outputs": [
    {
     "name": "stdout",
     "output_type": "stream",
     "text": [
      "This function is in parent class.\n"
     ]
    }
   ],
   "source": [
    "p.func1()"
   ]
  },
  {
   "cell_type": "code",
   "execution_count": 32,
   "id": "e4c3be9d-c930-4684-bcf9-ea296f316ab2",
   "metadata": {},
   "outputs": [
    {
     "name": "stdout",
     "output_type": "stream",
     "text": [
      "This function is in child class.\n"
     ]
    }
   ],
   "source": [
    "p.func2()"
   ]
  },
  {
   "cell_type": "code",
   "execution_count": 36,
   "id": "58102957-1bc4-4cf7-aafe-d40e1b475a22",
   "metadata": {},
   "outputs": [],
   "source": [
    "#2. Multiple Inhertance\n",
    "class Mother:\n",
    "    mothername = \"Beena\"\n",
    " \n",
    "    def mother(self):\n",
    "        print(self.mothername)\n",
    "class Father:\n",
    "    fathername = \"Ram\"\n",
    " \n",
    "    def father(self):\n",
    "        print(self.fathername)\n",
    "class Son(Mother, Father):\n",
    "    def parents(self):\n",
    "        print(\"Father :\", self.fathername)\n",
    "        print(\"Mother :\", self.mothername)"
   ]
  },
  {
   "cell_type": "code",
   "execution_count": 37,
   "id": "c4d74a5b-5403-4276-8f10-5d2b75b08df8",
   "metadata": {},
   "outputs": [],
   "source": [
    "s=Son()"
   ]
  },
  {
   "cell_type": "code",
   "execution_count": 39,
   "id": "595042ab-96d2-49a7-91d3-4e87add20e39",
   "metadata": {},
   "outputs": [
    {
     "data": {
      "text/plain": [
       "'Ram'"
      ]
     },
     "execution_count": 39,
     "metadata": {},
     "output_type": "execute_result"
    }
   ],
   "source": [
    "s.fathername"
   ]
  },
  {
   "cell_type": "code",
   "execution_count": 41,
   "id": "209b0174-bc70-4069-9e5a-b7dc398d6765",
   "metadata": {},
   "outputs": [
    {
     "data": {
      "text/plain": [
       "'Beena'"
      ]
     },
     "execution_count": 41,
     "metadata": {},
     "output_type": "execute_result"
    }
   ],
   "source": [
    "s.mothername"
   ]
  },
  {
   "cell_type": "code",
   "execution_count": 43,
   "id": "755e894b-9d0b-41c7-99e8-7fcba4663339",
   "metadata": {},
   "outputs": [
    {
     "name": "stdout",
     "output_type": "stream",
     "text": [
      "Father : Ram\n",
      "Mother : Beena\n"
     ]
    }
   ],
   "source": [
    "s.parents()"
   ]
  },
  {
   "cell_type": "code",
   "execution_count": 44,
   "id": "d7763a3b-6275-4db1-8898-ad43a6050415",
   "metadata": {},
   "outputs": [],
   "source": [
    "#3. Multilevel Inheritance\n",
    "class Grandfather:\n",
    " \n",
    "    def __init__(self, grandfathername):\n",
    "        self.grandfathername = grandfathername\n",
    "\n",
    "class Father(Grandfather):\n",
    "    def __init__(self, fathername, grandfathername):\n",
    "        self.fathername = fathername\n",
    " \n",
    "        # invoking constructor of Grandfather class\n",
    "        Grandfather.__init__(self, grandfathername)\n",
    "class Son(Father):\n",
    "    def __init__(self, sonname, fathername, grandfathername):\n",
    "        self.sonname = sonname\n",
    " \n",
    "        # invoking constructor of Father class\n",
    "        Father.__init__(self, fathername, grandfathername)\n",
    " \n",
    "    def print_name(self):\n",
    "        print('Grandfather name :', self.grandfathername)\n",
    "        print(\"Father name :\", self.fathername)\n",
    "        print(\"Son name :\", self.sonname)"
   ]
  },
  {
   "cell_type": "code",
   "execution_count": 45,
   "id": "63ede549-aa64-4dca-93eb-1365d57c3492",
   "metadata": {},
   "outputs": [
    {
     "name": "stdout",
     "output_type": "stream",
     "text": [
      "sita\n",
      "Grandfather name : sita\n",
      "Father name : Ram\n",
      "Son name : Aryan\n"
     ]
    }
   ],
   "source": [
    "s1 = Son('Aryan', 'Ram', 'sita')\n",
    "print(s1.grandfathername)\n",
    "s1.print_name()"
   ]
  },
  {
   "cell_type": "code",
   "execution_count": 46,
   "id": "60c65670-de50-4f00-a92d-4202b28f30bd",
   "metadata": {},
   "outputs": [],
   "source": [
    "#4. Hybrid Inheritance\n",
    "class School:\n",
    "    def func1(self):\n",
    "        print(\"This function is in school.\")\n",
    " \n",
    " \n",
    "class Student1(School):\n",
    "    def func2(self):\n",
    "        print(\"This function is in student 1. \")\n",
    " \n",
    " \n",
    "class Student2(School):\n",
    "    def func3(self):\n",
    "        print(\"This function is in student 2.\")\n",
    " \n",
    " \n",
    "class Student3(Student1, School):\n",
    "    def func4(self):\n",
    "        print(\"This function is in student 3.\")\n",
    " \n"
   ]
  },
  {
   "cell_type": "code",
   "execution_count": 47,
   "id": "e0d98d89-43c2-4e82-a57c-6cff6ce648a7",
   "metadata": {},
   "outputs": [
    {
     "name": "stdout",
     "output_type": "stream",
     "text": [
      "This function is in school.\n",
      "This function is in student 1. \n"
     ]
    }
   ],
   "source": [
    "object = Student3()\n",
    "object.func1()\n",
    "object.func2()"
   ]
  },
  {
   "cell_type": "code",
   "execution_count": null,
   "id": "7bd81917-183e-47a2-ab8a-544989f3bee8",
   "metadata": {},
   "outputs": [],
   "source": []
  }
 ],
 "metadata": {
  "kernelspec": {
   "display_name": "Python 3 (ipykernel)",
   "language": "python",
   "name": "python3"
  },
  "language_info": {
   "codemirror_mode": {
    "name": "ipython",
    "version": 3
   },
   "file_extension": ".py",
   "mimetype": "text/x-python",
   "name": "python",
   "nbconvert_exporter": "python",
   "pygments_lexer": "ipython3",
   "version": "3.10.8"
  }
 },
 "nbformat": 4,
 "nbformat_minor": 5
}
